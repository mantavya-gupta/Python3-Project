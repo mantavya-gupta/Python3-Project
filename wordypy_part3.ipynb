{
 "cells": [
  {
   "cell_type": "code",
   "execution_count": 5,
   "id": "f0911a3a",
   "metadata": {},
   "outputs": [],
   "source": [
    "import wordy\n",
    "import PIL\n",
    "import random\n",
    "guessed_words = [] \n",
    "\n",
    "\n",
    "def solution(board: PIL.Image) -> str:\n",
    "    \"\"\"The student solution to the problem.\n",
    "\n",
    "    You must write code to query the wordy module and make\n",
    "    a guess for the word. You needs to inspect the module to\n",
    "    understand how to do this, and this function should only return\n",
    "    the guess that you are going to make based on the game board state.\n",
    "\n",
    "    Returns:\n",
    "        str: The guess that you are going to make.\n",
    "    \"\"\"\n",
    "    new_guess = \"\"\n",
    "    # YOUR CODE HERE\n",
    "    word_list = wordy.get_word_list()\n",
    "    random.shuffle(word_list)\n",
    "    for word in word_list:\n",
    "        if word not in guessed_words:\n",
    "            guessed_words.append(word)\n",
    "            return word\n",
    "    \n",
    "    return new_guess"
   ]
  },
  {
   "cell_type": "code",
   "execution_count": 6,
   "id": "da57471d",
   "metadata": {},
   "outputs": [],
   "source": [
    "# The autograder for this assignment is easy, it will try and play\n",
    "# a few rounds of the game and ensure that errors are not thrown. If\n",
    "# you can make it through five rounds we'll assume you have the right\n",
    "# solution!\n",
    "#\n",
    "# You SHOULD NOT change anything in the wordy module, instead you\n",
    "# must figure out how to write the solution() function in this notebook\n",
    "# to make a good guess based on the board state!\n",
    "\n",
    "for i in range(5):\n",
    "    try:\n",
    "        # Get an image of the current board state from wordy.\n",
    "        # Note that the image contains some number of random guesses (always less than 5 guesses).\n",
    "        image = wordy.get_board_state()\n",
    "        # Create a new *good* guess based on the image and rules of wordy\n",
    "        new_guess = solution(image)  # your code goes in solution()!\n",
    "        # Send that guess to wordy to make sure it doesn't throw any errors\n",
    "        wordy.make_guess(new_guess)\n",
    "    except Exception as e:\n",
    "        raise e"
   ]
  },
  {
   "cell_type": "code",
   "execution_count": 7,
   "id": "dcfc099b",
   "metadata": {},
   "outputs": [
    {
     "name": "stdout",
     "output_type": "stream",
     "text": [
      "Round 1: Guessing 'SOLDO'\n",
      "Round 2: Guessing 'GLARY'\n",
      "Round 3: Guessing 'UNIFY'\n",
      "Round 4: Guessing 'EGRET'\n",
      "Round 5: Guessing 'TWEED'\n"
     ]
    }
   ],
   "source": [
    "for i in range(5):\n",
    "    try:\n",
    "        image = wordy.get_board_state()\n",
    "        new_guess = solution(image)\n",
    "        print(f\"Round {i+1}: Guessing '{new_guess}'\")  # 👈 Add this line\n",
    "        wordy.make_guess(new_guess)\n",
    "    except Exception as e:\n",
    "        raise e\n"
   ]
  }
 ],
 "metadata": {
  "kernelspec": {
   "display_name": "Python 3",
   "language": "python",
   "name": "python3"
  },
  "language_info": {
   "codemirror_mode": {
    "name": "ipython",
    "version": 3
   },
   "file_extension": ".py",
   "mimetype": "text/x-python",
   "name": "python",
   "nbconvert_exporter": "python",
   "pygments_lexer": "ipython3",
   "version": "3.13.3"
  }
 },
 "nbformat": 4,
 "nbformat_minor": 5
}
