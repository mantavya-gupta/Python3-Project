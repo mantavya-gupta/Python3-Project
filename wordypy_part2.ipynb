{
 "cells": [
  {
   "cell_type": "code",
   "execution_count": 100,
   "id": "dfc3f812",
   "metadata": {},
   "outputs": [],
   "source": [
    "# --- Letter class ---\n",
    "class Letter:\n",
    "    def __init__(self, letter: str):\n",
    "        self.letter = letter.lower()\n",
    "        self.in_word = False\n",
    "        self.in_correct_place = False\n",
    "        self.index = None\n",
    "\n",
    "    def mark_as_in_word(self):\n",
    "        self.in_word = True\n",
    "\n",
    "    def mark_as_in_correct_place(self):\n",
    "        self.in_word = True\n",
    "        self.in_correct_place = True\n",
    "\n",
    "    def is_in_word(self) -> bool:\n",
    "        return self.in_word\n",
    "\n",
    "    def is_in_correct_place(self) -> bool:\n",
    "        return self.in_correct_place\n",
    "\n",
    "    def __repr__(self):\n",
    "        return (\n",
    "            f\"Letter('{self.letter}', in_word={self.in_word}, \"\n",
    "            f\"in_correct_place={self.in_correct_place})\"\n",
    "        )\n"
   ]
  },
  {
   "cell_type": "code",
   "execution_count": 101,
   "id": "be269071",
   "metadata": {},
   "outputs": [],
   "source": [
    "# --- DisplaySpecification class ---\n",
    "class DisplaySpecification:\n",
    "    block_width: int = 80\n",
    "    block_height: int = 80\n",
    "    correct_location_color: str = \"#00274C\"\n",
    "    incorrect_location_color: str = \"#FFCB05\"\n",
    "    incorrect_color: str = \"#D3D3D3\"\n",
    "    space_between_letters: int = 5\n",
    "    word_color: str = \"#FFFFFF\"\n"
   ]
  },
  {
   "cell_type": "code",
   "execution_count": 102,
   "id": "4e9ae552",
   "metadata": {},
   "outputs": [],
   "source": [
    "# --- Bot class ---\n",
    "import random\n",
    "from PIL import Image\n",
    "\n",
    "class Bot:\n",
    "    def __init__(self, words_file: str, display_spec: DisplaySpecification):\n",
    "        self.display_spec = display_spec\n",
    "        with open(words_file, \"r\") as f:\n",
    "            self.words = [word.strip().lower() for word in f.readlines()]\n",
    "        self.word_list = self.words\n",
    "        self.guesses = []\n",
    "\n",
    "    @staticmethod\n",
    "    def _tuple_to_str(pixels: tuple) -> str:\n",
    "        return \"#{:02X}{:02X}{:02X}\".format(*pixels[:3])\n",
    "\n",
    "    def _process_image(self, guess: str, guess_image: Image.Image) -> list[Letter]:\n",
    "        spec = self.display_spec\n",
    "        tile_width = guess_image.width // len(guess)\n",
    "        y = guess_image.height // 2\n",
    "        feedback_letters = []\n",
    "\n",
    "        for i, char in enumerate(guess):\n",
    "            x = i * tile_width + tile_width // 2\n",
    "            pixel = guess_image.getpixel((x, y))\n",
    "            color_hex = self._tuple_to_str(pixel).upper()\n",
    "\n",
    "            letter = Letter(char.upper())\n",
    "            letter.index = i\n",
    "\n",
    "            if color_hex == spec.correct_location_color.upper():\n",
    "                letter.mark_as_in_correct_place()\n",
    "            elif color_hex == spec.incorrect_location_color.upper():\n",
    "                letter.mark_as_in_word()\n",
    "\n",
    "            feedback_letters.append(letter)\n",
    "\n",
    "        return feedback_letters\n",
    "\n",
    "    def record_guess_results(self, guess: str, guess_image: Image.Image):\n",
    "        feedback_letters = self._process_image(guess, guess_image)\n",
    "        self.guesses.append((guess, feedback_letters))\n",
    "\n",
    "    def make_guess(self) -> str:\n",
    "        guessed_words = {g[0].lower() for g in self.guesses}\n",
    "        candidates = [word for word in self.word_list if word not in guessed_words]\n",
    "        return random.choice(candidates).upper() if candidates else random.choice(self.word_list).upper()\n"
   ]
  },
  {
   "cell_type": "code",
   "execution_count": 103,
   "id": "dede985a",
   "metadata": {},
   "outputs": [],
   "source": [
    "# --- GameEngine class ---\n",
    "from PIL import Image, ImageFont, ImageDraw\n",
    "import random\n",
    "\n",
    "class GameEngine:\n",
    "    def __init__(self, display_spec: DisplaySpecification = None) -> None:\n",
    "        if display_spec is None:\n",
    "            display_spec = DisplaySpecification()\n",
    "        self.display_spec = display_spec\n",
    "        self.err_input = False\n",
    "        self.err_guess = False\n",
    "        self.prev_guesses = []\n",
    "\n",
    "    def play(self, bot: Bot, word_list_file: str = \"words.txt\", target_word: str = None) -> Image:\n",
    "        def format_results(results) -> str:\n",
    "            response = \"\"\n",
    "            for letter in results:\n",
    "                if letter.is_in_correct_place():\n",
    "                    response += letter.letter\n",
    "                elif letter.is_in_word():\n",
    "                    response += \"*\"\n",
    "                else:\n",
    "                    response += \"?\"\n",
    "            return response\n",
    "\n",
    "        word_list: list[str] = list(map(lambda x: x.strip().upper(), open(word_list_file, \"r\").readlines()))\n",
    "        known_letters: list[str] = [None, None, None, None, None]\n",
    "        unused_letters = set()\n",
    "\n",
    "        if target_word is None:\n",
    "            target_word = random.choice(word_list).upper()\n",
    "        else:\n",
    "            target_word = target_word.upper()\n",
    "            if target_word not in word_list:\n",
    "                print(f\"Target word {target_word} must be from the word list\")\n",
    "                self.err_input = True\n",
    "                return\n",
    "\n",
    "        print(f\"Target word for this round is {target_word}\")\n",
    "\n",
    "        MAX_GUESSES = 6\n",
    "        for i in range(1, MAX_GUESSES):\n",
    "            guess: str = bot.make_guess()\n",
    "            print(f\"Evaluating bot guess: {guess}\")\n",
    "\n",
    "            if guess not in word_list:\n",
    "                print(f\"Invalid guess: {guess}\")\n",
    "                self.err_guess = True\n",
    "            elif guess in self.prev_guesses:\n",
    "                print(f\"Repeated guess: {guess}\")\n",
    "                self.err_guess = True\n",
    "\n",
    "            if self.err_guess:\n",
    "                return\n",
    "\n",
    "            self.prev_guesses.append(guess)\n",
    "\n",
    "            for j, letter in enumerate(guess):\n",
    "                if letter in unused_letters:\n",
    "                    print(f\"Used known-unused letter: {letter}\")\n",
    "                    self.err_guess = True\n",
    "                if known_letters[j] is not None and letter != known_letters[j]:\n",
    "                    print(f\"Wrong letter at known correct position {j}\")\n",
    "                    self.err_guess = True\n",
    "\n",
    "            if self.err_guess:\n",
    "                return\n",
    "\n",
    "            correct, results = self._set_feedback(guess, target_word)\n",
    "            print(f\"Correct guess? {correct}\")\n",
    "\n",
    "            img = self._format_results(results)\n",
    "            from IPython.display import display\n",
    "            display(img)\n",
    "\n",
    "            bot.record_guess_results(guess, img)\n",
    "\n",
    "            if correct:\n",
    "                print(f\"Found the word in {i} guesses!\")\n",
    "                return\n",
    "\n",
    "        print(\"Game over. Bot failed to guess the word.\")\n",
    "\n",
    "    def _set_feedback(self, guess: str, target_word: str) -> tuple[bool, list[Letter]]:\n",
    "        correct = True\n",
    "        letters = []\n",
    "        for j in range(len(guess)):\n",
    "            letter = Letter(guess[j])\n",
    "            if guess[j] == target_word[j]:\n",
    "                letter.in_correct_place = True\n",
    "            else:\n",
    "                correct = False\n",
    "            if guess[j] in target_word:\n",
    "                letter.in_word = True\n",
    "            letters.append(letter)\n",
    "        return correct, letters\n",
    "\n",
    "    def _render_letter(self, letter: Letter) -> Image:\n",
    "        color: str = self.display_spec.incorrect_color\n",
    "        if letter.is_in_correct_place():\n",
    "            color = self.display_spec.correct_location_color\n",
    "        elif letter.is_in_word():\n",
    "            color = self.display_spec.incorrect_location_color\n",
    "\n",
    "        block = Image.new(\"RGB\", (self.display_spec.block_width, self.display_spec.block_height), color=color)\n",
    "        draw = ImageDraw.Draw(block)\n",
    "        X = self.display_spec.block_width // 2\n",
    "        Y = self.display_spec.block_height // 2\n",
    "\n",
    "        # Using safe default font\n",
    "        try:\n",
    "            font = ImageFont.truetype(\"Roboto-Bold.ttf\", 60)\n",
    "        except OSError:\n",
    "            font = ImageFont.load_default()\n",
    "        draw.text((X, Y), letter.letter, anchor=\"mm\", font=font)\n",
    "\n",
    "        return block\n",
    "\n",
    "    def _format_results(self, letters: list[Letter]) -> Image:\n",
    "        WORD_WIDTH = (len(letters) * self.display_spec.block_width) + \\\n",
    "                     (len(letters) - 1) * self.display_spec.space_between_letters\n",
    "        WORD_HEIGHT = self.display_spec.block_height\n",
    "\n",
    "        word = Image.new(\"RGB\", (WORD_WIDTH, WORD_HEIGHT), color=self.display_spec.word_color)\n",
    "        curr_loc = 0\n",
    "        for letter in letters:\n",
    "            rendered_letter = self._render_letter(letter)\n",
    "            word.paste(rendered_letter, (curr_loc, 0))\n",
    "            curr_loc += self.display_spec.block_width + self.display_spec.space_between_letters\n",
    "        return word\n"
   ]
  },
  {
   "cell_type": "code",
   "execution_count": 104,
   "id": "64d386f1",
   "metadata": {},
   "outputs": [
    {
     "name": "stdout",
     "output_type": "stream",
     "text": [
      "Target word for this round is DADDY\n",
      "Evaluating bot guess: STATE\n",
      "Correct guess? False\n"
     ]
    },
    {
     "data": {
      "image/jpeg": "[encoded data removed]",
      "image/png": "[encoded data removed]",
      "text/plain": [
       "<PIL.Image.Image image mode=RGB size=420x80>"
      ]
     },
     "metadata": {},
     "output_type": "display_data"
    },
    {
     "name": "stdout",
     "output_type": "stream",
     "text": [
      "Evaluating bot guess: DOGGY\n",
      "Correct guess? False\n"
     ]
    },
    {
     "data": {
      "image/jpeg": "[encoded data removed]",
      "image/png": "[encoded data removed]",
      "text/plain": [
       "<PIL.Image.Image image mode=RGB size=420x80>"
      ]
     },
     "metadata": {},
     "output_type": "display_data"
    },
    {
     "name": "stdout",
     "output_type": "stream",
     "text": [
      "Evaluating bot guess: FIELD\n",
      "Correct guess? False\n"
     ]
    },
    {
     "data": {
      "image/jpeg": "[encoded data removed]",
      "image/png": "[encoded data removed]",
      "text/plain": [
       "<PIL.Image.Image image mode=RGB size=420x80>"
      ]
     },
     "metadata": {},
     "output_type": "display_data"
    },
    {
     "name": "stdout",
     "output_type": "stream",
     "text": [
      "Evaluating bot guess: DADDY\n",
      "Correct guess? True\n"
     ]
    },
    {
     "data": {
      "image/jpeg": "[encoded data removed]",
      "image/png": "[encoded data removed]",
      "text/plain": [
       "<PIL.Image.Image image mode=RGB size=420x80>"
      ]
     },
     "metadata": {},
     "output_type": "display_data"
    },
    {
     "name": "stdout",
     "output_type": "stream",
     "text": [
      "Found the word in 4 guesses!\n"
     ]
    }
   ],
   "source": [
    "# --- Run the game ---\n",
    "if __name__ == \"__main__\":\n",
    "    favorite_words = [\"doggy\", \"drive\", \"daddy\", \"field\", \"state\"]\n",
    "    words_file = \"temp_file.txt\"\n",
    "    with open(words_file, \"w\") as file:\n",
    "        file.writelines(\"\\n\".join(favorite_words))\n",
    "\n",
    "    ge = GameEngine()\n",
    "    bot = Bot(words_file, ge.display_spec)\n",
    "    ge.play(bot, word_list_file=words_file)\n"
   ]
  }
 ],
 "metadata": {
  "kernelspec": {
   "display_name": "Python 3",
   "language": "python",
   "name": "python3"
  },
  "language_info": {
   "codemirror_mode": {
    "name": "ipython",
    "version": 3
   },
   "file_extension": ".py",
   "mimetype": "text/x-python",
   "name": "python",
   "nbconvert_exporter": "python",
   "pygments_lexer": "ipython3",
   "version": "3.13.3"
  }
 },
 "nbformat": 4,
 "nbformat_minor": 5
}
